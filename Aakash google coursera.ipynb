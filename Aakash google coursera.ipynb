{
 "cells": [
  {
   "cell_type": "markdown",
   "id": "5dada7ed",
   "metadata": {},
   "source": [
    "# Data Science Tools Notebook\n"
   ]
  },
  {
   "cell_type": "markdown",
   "id": "fbc8c454",
   "metadata": {},
   "source": [
    "## Introduction\n",
    "\n",
    "Data science is a multidisciplinary field that combines techniques and methods from statistics, mathematics, computer science, and domain expertise to extract insights and knowledge from data. In this notebook, we will explore various tools and languages commonly used in data science.\n"
   ]
  },
  {
   "cell_type": "markdown",
   "id": "4d79c4b8",
   "metadata": {},
   "source": [
    "## Data Science Languages\n",
    "\n",
    "- Python\n",
    "- R\n",
    "- SQL\n"
   ]
  },
  {
   "cell_type": "markdown",
   "id": "879ba4cf",
   "metadata": {},
   "source": [
    "## Data Science Libraries\n",
    "\n",
    "- Pandas\n",
    "- NumPy\n",
    "- Matplotlib\n"
   ]
  },
  {
   "cell_type": "markdown",
   "id": "94a10d59",
   "metadata": {},
   "source": [
    "## Data Science Tools\n",
    "\n",
    "| Tool Name    | Description                | Purpose                  |\n",
    "|--------------|----------------------------|--------------------------|\n",
    "| Pandas       | Data manipulation library  | Data cleaning and analysis|\n",
    "| TensorFlow   | Machine learning framework | Building and training models|\n",
    "| scikit-learn | Machine learning library   | Implementing ML algorithms|\n",
    "| SQL          | Database query language    | Database operations      |\n"
   ]
  },
  {
   "cell_type": "markdown",
   "id": "5a5a7c7c",
   "metadata": {},
   "source": [
    "## Arithmetic Expressions\n",
    "\n",
    "Arithmetic expressions are mathematical operations involving numbers and operators such as addition, subtraction, multiplication, and division. In the following code cells, we will explore some examples of arithmetic expressions.\n"
   ]
  },
  {
   "cell_type": "code",
   "execution_count": 4,
   "id": "68a56731",
   "metadata": {},
   "outputs": [
    {
     "data": {
      "text/plain": [
       "52"
      ]
     },
     "execution_count": 4,
     "metadata": {},
     "output_type": "execute_result"
    }
   ],
   "source": [
    "# Multiply and add numbers\n",
    "x = 5\n",
    "y = 10\n",
    "result = x * y + 2\n",
    "result\n"
   ]
  },
  {
   "cell_type": "code",
   "execution_count": 5,
   "id": "5dd4d910",
   "metadata": {},
   "outputs": [
    {
     "data": {
      "text/plain": [
       "2.0"
      ]
     },
     "execution_count": 5,
     "metadata": {},
     "output_type": "execute_result"
    }
   ],
   "source": [
    "# Convert minutes to hours\n",
    "minutes = 120\n",
    "hours = minutes / 60\n",
    "hours\n"
   ]
  },
  {
   "cell_type": "markdown",
   "id": "b38fb9ca",
   "metadata": {},
   "source": [
    "## Objectives\n",
    "\n",
    "- Familiarise yourself with common data science languages and libraries\n",
    "- Explore various tools used in data science\n",
    "- Understand basic arithmetic expressions and operations\n"
   ]
  },
  {
   "cell_type": "markdown",
   "id": "6850ad26",
   "metadata": {},
   "source": [
    "## Author\n",
    "\n",
    "John Doe\n"
   ]
  },
  {
   "cell_type": "markdown",
   "id": "426f7ccb",
   "metadata": {},
   "source": []
  }
 ],
 "metadata": {
  "kernelspec": {
   "display_name": "Python 3 (ipykernel)",
   "language": "python",
   "name": "python3"
  },
  "language_info": {
   "codemirror_mode": {
    "name": "ipython",
    "version": 3
   },
   "file_extension": ".py",
   "mimetype": "text/x-python",
   "name": "python",
   "nbconvert_exporter": "python",
   "pygments_lexer": "ipython3",
   "version": "3.9.13"
  }
 },
 "nbformat": 4,
 "nbformat_minor": 5
}
